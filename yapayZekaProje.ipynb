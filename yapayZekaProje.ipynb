{
  "nbformat": 4,
  "nbformat_minor": 0,
  "metadata": {
    "colab": {
      "provenance": []
    },
    "kernelspec": {
      "name": "python3",
      "display_name": "Python 3"
    },
    "language_info": {
      "name": "python"
    }
  },
  "cells": [
    {
      "cell_type": "markdown",
      "source": [
        "# **1-PROBLEM TANIMI**"
      ],
      "metadata": {
        "id": "cv8kUsf8H6YY"
      }
    },
    {
      "cell_type": "markdown",
      "source": [
        "Bu projede, bir veri seti kullanarak insanların görüntülerinden cinsiyetlerini ve maske takıp takmadıklarını belirlemeyi amaçladık. Bu tür bir analiz, özellikle pandemi döneminde toplum sağlığını korumak ve sosyal mesafe önlemlerine uyulup uyulmadığını izlemek için önemlidir. Proje kapsamında, görüntü işleme ve makine öğrenimi teknikleri kullanılarak cinsiyet ve maske kullanımı tespiti gerçekleştirilmiştir.\n"
      ],
      "metadata": {
        "id": "NCE_sz3Cam9O"
      }
    },
    {
      "cell_type": "markdown",
      "source": [
        "# **2-PROJE EKİBİNİN KATKILARI**\n",
        "\n",
        "## **2a- Katkı oranlarını belirtin**\n",
        "\n",
        "**Furkan Akarçeşme Katkı Oranı :** %33.3\n",
        "\n",
        "**Yiğit Edar Katkı Oranı :** %33.3\n",
        "\n",
        "**Yusuf Kılıç Katkı Oranı :** %33.3\n",
        "\n",
        "\n",
        "## **2b-Katkıyı tanımlayın**\n",
        "\n",
        "**Yiğit Edar ve Furkan Akarçeşme :** Kodun Yazılması ve Modelin Eğitilmesi, Transfer Learning Modellerinin İncelenmesi\n",
        "\n",
        "**Yusuf Kılıç :** Araştırmaların Yapılması, Kaynakların Bulunması, Collab Düzeni Ayarlama, Slayt Sunumu"
      ],
      "metadata": {
        "id": "ihziGNQVH_r7"
      }
    },
    {
      "cell_type": "markdown",
      "source": [
        "# **3 - ÇÖZÜM için Kullanılan YÖNTEM**\n",
        "\n",
        "### **Veri İşleme ve Artırma (Data Augmentation):**\n",
        "Amaç:\n",
        "Veri setini genişletmek ve modelin genelleme yeteneğini artırmak.\n",
        "Teknik: ImageDataGenerator ile görüntülerin dönüştürülmesi, yeniden boyutlandırılması, yatay çevrilmesi vb.\n",
        "\n",
        "### **Transfer Öğrenme (Transfer Learning):**\n",
        "Amaç: Önceden eğitilmiş bir modelin (VGG16) ağırlıklarını kullanarak yeni bir model oluşturmak.\n",
        "Teknik: VGG16 modelinin temel katmanlarını kullanarak, üzerine yeni katmanlar eklemek.\n",
        "\n",
        "### **Çift Çıktı İşleme (Multi-output Processing):**\n",
        "Amaç: Aynı modelden iki farklı görev için çıktılar elde etmek (maske tespiti ve cinsiyet sınıflandırması).\n",
        "Teknik: Modelin iki ayrı çıkış katmanına sahip olması (sigmoid ve softmax).\n",
        "\n",
        "### **Modelin Dondurulması (Freezing Layers):**\n",
        "Amaç: Önceden eğitilmiş modelin ağırlıklarını sabitlemek ve yeni katmanları eğitmek.\n",
        "Teknik: Taban modelin katmanlarının trainable özelliğini False yapmak.\n",
        "\n",
        "### **Kayıp Fonksiyonları (Loss Functions):**\n",
        "Amaç: Modelin çıktılarının doğruluğunu ölçmek ve eğitimi yönlendirmek.\n",
        "Teknik: Binary crossentropy ve categorical crossentropy kullanımı.\n",
        "\n",
        "### **Optimizasyon (Optimization):**\n",
        "Amaç: Modelin ağırlıklarını güncelleyerek kaybı minimize etmek.\n",
        "Teknik: Adam optimizatörü kullanımı."
      ],
      "metadata": {
        "id": "OUGaSG9_ICPs"
      }
    },
    {
      "cell_type": "markdown",
      "source": [
        "# **4- SONUÇ ve DEĞERLENDİRME**\n",
        "\n",
        "Proje, derin öğrenme ve transfer öğrenme teknikleri kullanarak insan görüntülerinden cinsiyet ve maske tespiti görevlerinde başarılı sonuçlar elde etmiştir. Gelecekteki çalışmalar için veri setinin genişletilmesi, daha gelişmiş modellerin kullanılması ve modelin ince ayar yapılması önerilebilir. Bu tür geliştirmeler, modelin doğruluğunu ve genelleme yeteneğini daha da artıracaktır.\n",
        "Veri Kalitesi ve Çeşitliliği: Veri setindeki bazı görüntülerin kalitesi düşük olabilir. Bu durum, modelin doğruluğunu olumsuz etkileyebilir. Gelecekte daha yüksek kaliteli ve çeşitli veri setleri kullanılarak bu sorun aşılabilir.\n",
        "Dengesiz Veri Seti: Veri setindeki sınıf dağılımının dengesiz olması, modelin performansını etkileyebilir. Örneğin, erkek ve kadın ya da maske ve maske olmayan görüntüler arasında dengesizlik varsa, model bazı sınıflarda daha az başarılı olabilir. Bu durumu dengelemek için SMOTE gibi yöntemler veya sınıf ağırlıkları kullanılabilir.\n",
        "Eğitim Süresi ve Epoch Sayısı: Modelin daha fazla epoch boyunca eğitilmesi, doğruluk oranlarını artırabilir. Ancak bu, eğitim süresini uzatacaktır. Gelecekte daha güçlü donanımlar veya daha optimize edilmiş eğitim stratejileri kullanılarak bu süre kısaltılabilir.\n",
        "Daha Derin ve Yeni Modeller: VGG16 yerine daha yeni ve daha derin modellerin (örneğin, ResNet, EfficientNet) kullanılması, modelin doğruluğunu artırabilir. Bu tür modeller, daha karmaşık özellikleri öğrenebilir ve daha yüksek performans gösterebilir."
      ],
      "metadata": {
        "id": "cJEjAni8IDyI"
      }
    },
    {
      "cell_type": "markdown",
      "source": [
        "# **5- Kullanılan Kaynaklar**\n",
        "\n",
        "https://www.kaggle.com/datasets/prithwirajmitra/covid-face-mask-detection-dataset\n",
        "\n",
        "https://www.kaggle.com/code/yasserhessein/gender-classification-using-vgg16-cnn\n",
        "\n",
        "https://www.kaggle.com/code/niharika41298/covid-19-mask-detector/notebook\n",
        "\n"
      ],
      "metadata": {
        "id": "zB6xs4pZIOvM"
      }
    },
    {
      "cell_type": "markdown",
      "source": [
        "### **6- KODLAR**"
      ],
      "metadata": {
        "id": "EVTIPBy5brmg"
      }
    },
    {
      "cell_type": "markdown",
      "source": [
        "### **Google Drive Bağlantısı:**\n"
      ],
      "metadata": {
        "id": "aijta-tUbvy5"
      }
    },
    {
      "cell_type": "code",
      "execution_count": 33,
      "metadata": {
        "id": "XxjEurZlGxfq",
        "colab": {
          "base_uri": "https://localhost:8080/"
        },
        "outputId": "ae5a8b46-347d-4a0c-8b47-7822ec824d4e"
      },
      "outputs": [
        {
          "output_type": "stream",
          "name": "stdout",
          "text": [
            "Mounted at /content/drive\n"
          ]
        }
      ],
      "source": [
        "# Google Drive'ı bağlayın\n",
        "from google.colab import drive\n",
        "drive.mount('/content/drive', force_remount=True)"
      ]
    },
    {
      "cell_type": "markdown",
      "source": [
        "Amaç: Google Drive'da bulunan veri setlerine ve CSV dosyasına erişim sağlamak.\n",
        "\n",
        "Açıklama: Bu kod, Google Colab ortamında Google Drive'ı bağlayarak veri setlerine kolay erişim sağlar."
      ],
      "metadata": {
        "id": "xaoeirTcIRO1"
      }
    },
    {
      "cell_type": "markdown",
      "source": [
        "### **Kütüphaneler**"
      ],
      "metadata": {
        "id": "llY8alRnb0wD"
      }
    },
    {
      "cell_type": "code",
      "source": [
        "import tensorflow as tf\n",
        "from tensorflow.keras.preprocessing.image import ImageDataGenerator\n",
        "from tensorflow.keras.applications.vgg16 import VGG16, preprocess_input\n",
        "from tensorflow.keras.layers import Dense, Flatten, Input\n",
        "from tensorflow.keras.models import Model\n",
        "from tensorflow.keras.optimizers import Adam\n",
        "import pandas as pd\n",
        "import os\n",
        "import numpy as np\n",
        "from sklearn.model_selection import train_test_split"
      ],
      "metadata": {
        "id": "6QO3WwLmISzX"
      },
      "execution_count": 34,
      "outputs": []
    },
    {
      "cell_type": "markdown",
      "source": [
        "**TensorFlow ve Keras ile İlgili Kütüphaneler**\n",
        "\n",
        "import tensorflow as tf: TensorFlow kütüphanesini içe aktarır ve tf kısaltmasıyla kullanılmasını sağlar.\n",
        "\n",
        "from tensorflow.keras.preprocessing.image import ImageDataGenerator: Keras'ın ImageDataGenerator sınıfını içe aktarır. Bu sınıf, görüntüleri veri artırımı (augmentation) ve ön işleme (preprocessing) için kullanılır.\n",
        "\n",
        "from tensorflow.keras.applications.vgg16 import VGG16, preprocess_input: Keras'ın önceden eğitilmiş VGG16 modelini ve bu model için gerekli olan ön işleme fonksiyonunu (preprocess_input) içe aktarır. VGG16, yaygın olarak kullanılan bir derin öğrenme modelidir.\n",
        "\n",
        "from tensorflow.keras.layers import Dense, Flatten, Input: Keras'ın temel katman tiplerini içe aktarır:\n",
        "\n",
        "**Dense:** Tam bağlı (fully connected) katman.\n",
        "\n",
        "**Flatten:** Çok boyutlu bir girişi tek boyutlu hale getiren katman.\n",
        "\n",
        "**Input:** Modelin giriş katmanını tanımlar.\n",
        "from tensorflow.keras.models import Model: Keras'da modelleri tanımlamak ve eğitmek için kullanılan sınıfı içe aktarır.\n",
        "\n",
        "from tensorflow.keras.optimizers import Adam: Keras'da popüler bir optimizasyon algoritması olan Adam'ı içe aktarır. Bu algoritma, modelin öğrenme sürecini optimize eder.\n",
        "\n",
        "**Diğer Python Kütüphaneleri**\n",
        "\n",
        "**import pandas as pd:** Pandas kütüphanesini içe aktarır ve pd kısaltmasıyla kullanılmasını sağlar. Pandas, veri analizi ve manipülasyonu için güçlü bir kütüphanedir.\n",
        "\n",
        "**import os:** Python'un standart kütüphanesindeki os modülünü içe aktarır. Bu modül, işletim sistemi ile ilgili fonksiyonları sağlar. Dosya ve dizin işlemleri için kullanılır.\n",
        "\n",
        "**import numpy as np:** NumPy kütüphanesini içe aktarır ve np kısaltmasıyla kullanılmasını sağlar. NumPy, bilimsel hesaplamalar için kullanılan güçlü bir kütüphanedir ve çok boyutlu dizilerle (arrays) çalışmayı kolaylaştırır.\n",
        "\n",
        "**from sklearn.model_selection import train_test_split:** Scikit-learn kütüphanesindeki train_test_split fonksiyonunu içe aktarır. Bu fonksiyon, veri setini eğitim ve test setlerine bölmek için kullanılır.\n",
        "\n",
        "Bu kod parçası, bir derin öğrenme modelini oluşturmak, eğitmek ve değerlendirmek için gerekli olan kütüphaneleri içe aktarıyor. TensorFlow ve Keras, modelin yapı taşlarını ve eğitim sürecini yönetirken, Pandas ve NumPy veri manipülasyonu ve analizinde kullanılır. Scikit-learn ise veri setini eğitim ve test setlerine ayırmak için kullanılır."
      ],
      "metadata": {
        "id": "uBvDj8h1IgN8"
      }
    },
    {
      "cell_type": "markdown",
      "source": [
        "### **Veri Seti ve CSV Dosyası Yollarının Belirlenmesi**"
      ],
      "metadata": {
        "id": "ZOWuizAwb5hS"
      }
    },
    {
      "cell_type": "code",
      "source": [
        "# Veri seti ve CSV dosyası yolunu belirleyin\n",
        "dataset_path = '/content/drive/My Drive/New Masks Dataset'\n",
        "csv_path = '/content/drive/My Drive/csvFile.csv'"
      ],
      "metadata": {
        "id": "Fjc2s_dhIg1Q"
      },
      "execution_count": 35,
      "outputs": []
    },
    {
      "cell_type": "markdown",
      "source": [
        "**dataset_path:** Bu değişken, veri setinin bulunduğu dizinin yolunu içerir. Burada, veri seti \"New Masks Dataset\" adlı bir klasörde bulunuyor ve bu klasör, Google Drive'ın belirtilen yolunda yer alıyor. Google Colab kullanılarak çalışılıyor olabilir, bu yüzden yol \"/content/drive/My Drive/...\" şeklinde belirtilmiş.\n",
        "\n",
        "**csv_path:** Bu değişken, CSV dosyasının bulunduğu dosya yolunu içerir. CSV dosyası, \"csvFile.csv\" adlı dosya olarak belirtilen yolda bulunuyor.\n",
        "\n",
        "Bu kod, veri seti ve CSV dosyasının dosya yollarını belirler ve bu yolları dataset_path ve csv_path değişkenlerine atar. Bu değişkenler, ileride veri setine ve CSV dosyasına erişmek için kullanılır. Bu tür yollar genellikle veri yükleme ve ön işleme işlemleri için kullanılır."
      ],
      "metadata": {
        "id": "wTX97Oayb77t"
      }
    },
    {
      "cell_type": "markdown",
      "source": [
        "### **CSV Dosyasını Okuma ve DataFrame'e Yükleme**"
      ],
      "metadata": {
        "id": "kXFOVnRhcIhF"
      }
    },
    {
      "cell_type": "code",
      "source": [
        "# CSV dosyasını oku\n",
        "df = pd.read_csv(csv_path)"
      ],
      "metadata": {
        "id": "Brqw9esvIk4X"
      },
      "execution_count": 36,
      "outputs": []
    },
    {
      "cell_type": "markdown",
      "source": [
        "**pd.read_csv(csv_path):** Bu fonksiyon, csv_path değişkeni ile belirtilen yoldaki CSV dosyasını okur. Pandas kütüphanesinde bulunan read_csv fonksiyonu, CSV dosyasını okur ve verileri bir DataFrame nesnesine dönüştürür. DataFrame, tablo şeklinde veri yapılandırması sağlayan ve veri manipülasyonu ve analizini kolaylaştıran bir Pandas veri yapısıdır.\n",
        "\n",
        "**df:** Bu değişken, okunan CSV dosyasındaki verileri içeren DataFrame'i tutar. Artık df değişkeni, CSV dosyasındaki verilerle dolu bir DataFrame olarak kullanılabilir.\n",
        "\n",
        "\n",
        "Yani bu kod, belirtilen yol (csv_path) üzerinden CSV dosyasını okur ve verileri bir Pandas DataFrame'e (df) yükler. Bu sayede, veriler üzerinde çeşitli analizler ve manipülasyonlar yapmak mümkün hale gelir."
      ],
      "metadata": {
        "id": "dDkgdM7DInG4"
      }
    },
    {
      "cell_type": "markdown",
      "source": [
        "### **Dosya Adlarının Geçerliliğini Kontrol Etme**"
      ],
      "metadata": {
        "id": "cZ94Nk1xcNjB"
      }
    },
    {
      "cell_type": "code",
      "source": [
        "# Dosyaların geçerli olup olmadığını kontrol et\n",
        "valid_filenames = []\n",
        "invalid_filenames = []\n",
        "for filename in df['filename']:\n",
        "    if os.path.isfile(filename):\n",
        "        valid_filenames.append(filename)\n",
        "    else:\n",
        "        invalid_filenames.append(filename)\n",
        "        print(f\"Geçersiz dosya adı: {filename}\")\n",
        "\n",
        "print(f\"Geçersiz dosya adları: {invalid_filenames}\")"
      ],
      "metadata": {
        "id": "gHG697-oInp-",
        "colab": {
          "base_uri": "https://localhost:8080/"
        },
        "outputId": "7a056822-fb4b-46f8-fd78-61038c7412b3"
      },
      "execution_count": 37,
      "outputs": [
        {
          "output_type": "stream",
          "name": "stdout",
          "text": [
            "Geçersiz dosya adları: []\n"
          ]
        }
      ]
    },
    {
      "cell_type": "markdown",
      "source": [
        "**valid_filenames = []:** Geçerli dosya adlarını saklamak için boş bir liste oluşturur.\n",
        "\n",
        "**invalid_filenames = []:** Geçersiz dosya adlarını saklamak için boş bir liste oluşturur.\n",
        "\n",
        "**for filename in df['filename']::** CSV dosyasından okunan DataFrame'deki 'filename' sütunundaki her bir dosya adı için döngü başlatır.\n",
        "\n",
        "**if os.path.isfile(filename)::** filename değişkeniyle belirtilen dosyanın geçerli bir dosya olup olmadığını kontrol eder.\n",
        "\n",
        "**valid_filenames.append(filename):** Dosya geçerliyse, dosya adını valid_filenames listesine ekler.\n",
        "**else::** Dosya geçerli değilse (bulunamıyorsa),\n",
        "invalid_filenames.append(filename): Dosya adını invalid_filenames listesine ekler.\n",
        "**print(f\"Geçersiz dosya adı: {filename}\"):** Geçersiz dosya adını ekrana yazdırır.\n",
        "**print(f\"Geçersiz dosya adları: {invalid_filenames}\"):** Döngü tamamlandıktan sonra, tüm geçersiz dosya adlarını ekrana yazdırır."
      ],
      "metadata": {
        "id": "ovzZIqCiIrs1"
      }
    },
    {
      "cell_type": "markdown",
      "source": [
        "### **Geçerli Dosya Adlarına Göre DataFrame'i Filtreleme**"
      ],
      "metadata": {
        "id": "Sr6WOpcvcSUw"
      }
    },
    {
      "cell_type": "code",
      "source": [
        "# Geçerli dosya adlarına göre filtreleme yap\n",
        "df = df[df['filename'].isin(valid_filenames)]\n"
      ],
      "metadata": {
        "id": "A-SYC5U5IsQN"
      },
      "execution_count": 38,
      "outputs": []
    },
    {
      "cell_type": "markdown",
      "source": [
        "**df[df['filename'].isin(valid_filenames)]:** Bu ifade, DataFrame'deki filename sütununda bulunan dosya adlarının valid_filenames listesinde olup olmadığını kontrol eder. Sadece valid_filenames listesinde bulunan dosya adlarına sahip satırları içeren bir DataFrame döner.\n",
        "\n",
        "**df['filename']:**DataFrame'in filename sütununu seçer.\n",
        "\n",
        "**.isin(valid_filenames):** Bu metod, filename sütunundaki değerlerin valid_filenames listesinde olup olmadığını kontrol eder ve bir boolean dizi döner.\n",
        "\n",
        "**df[...]**: Boolean diziyi kullanarak, sadece True değerine sahip satırları içeren bir DataFrame döner.\n",
        "\n",
        "**df =:**Filtrelenmiş DataFrame'i df değişkenine atar, yani orijinal df DataFrame'ini geçerli dosya adlarına sahip satırlarla günceller."
      ],
      "metadata": {
        "id": "yE-SQ_UrIwF1"
      }
    },
    {
      "cell_type": "markdown",
      "source": [
        "### **Geçerli Dosya Adı Bulunmaması Durumunda Hata Verme**"
      ],
      "metadata": {
        "id": "Yp-qekWlcXbU"
      }
    },
    {
      "cell_type": "code",
      "source": [
        "# Eğer geçerli dosya adı yoksa hata mesajı ver\n",
        "if df.empty:\n",
        "    raise ValueError(\"Geçerli dosya adı bulunamadı. Lütfen dosya adlarını ve dizinleri kontrol edin.\")\n"
      ],
      "metadata": {
        "id": "9Q-0yhtwIw3k"
      },
      "execution_count": 39,
      "outputs": []
    },
    {
      "cell_type": "markdown",
      "source": [
        "**if df.empty::**Bu koşul, DataFrame'in boş olup olmadığını kontrol eder. df.empty ifadesi, DataFrame'in satır içermediği durumlarda True değerini döner.\n",
        "\n",
        "**raise ValueError(\"Geçerli dosya adı bulunamadı. Lütfen dosya adlarını ve dizinleri kontrol edin.\"):** Eğer DataFrame boşsa (df.empty True ise), ValueError türünde bir hata yükseltir ve belirtilen hata mesajını verir. Bu mesaj, geçerli dosya adı bulunamadığını ve dosya adlarının ve dizinlerin kontrol edilmesi gerektiğini belirtir."
      ],
      "metadata": {
        "id": "aGtavnPLcZ0M"
      }
    },
    {
      "cell_type": "markdown",
      "source": [
        "### **Kategorik Verilerin Sayısal Verilere Dönüştürülmesi**"
      ],
      "metadata": {
        "id": "dXUInie1ceFH"
      }
    },
    {
      "cell_type": "code",
      "source": [
        "# Kategorik verileri sayısal verilere dönüştür\n",
        "df['label'] = df['label'].map({'Mask': 1, 'Non Mask': 0})\n",
        "df['gender'] = df['gender'].map({'Male': 1, 'Female': 0})"
      ],
      "metadata": {
        "id": "G2o02b_sIzA2"
      },
      "execution_count": 40,
      "outputs": []
    },
    {
      "cell_type": "markdown",
      "source": [
        "**df['label']:** DataFrame'deki label sütununu seçer.\n",
        "\n",
        "**.map({'Mask': 1, 'Non Mask': 0}):** label sütunundaki 'Mask' ve 'Non Mask' kategorik değerlerini 1 ve 0 sayısal değerlerine dönüştürür. Yani, 'Mask' olan etiketler 1, 'Non Mask' olan etiketler 0 olur.\n",
        "\n",
        "**df['gender']:** DataFrame'deki gender sütununu seçer.\n",
        "\n",
        "**.map({'Male': 1, 'Female': 0}):** gender sütunundaki 'Male' ve 'Female' kategorik değerlerini 1 ve 0 sayısal değerlerine dönüştürür. Yani, 'Male' olan cinsiyetler 1, 'Female' olan cinsiyetler 0 olur."
      ],
      "metadata": {
        "id": "ZkryaW4McgKL"
      }
    },
    {
      "cell_type": "markdown",
      "source": [
        "### **Veri Setinin Eğitim, Doğrulama ve Test Setlerine Ayrılması**"
      ],
      "metadata": {
        "id": "U66z8X8Ecl6q"
      }
    },
    {
      "cell_type": "code",
      "source": [
        "# Train, validation ve test setlerine ayır\n",
        "train_df, temp_df = train_test_split(df, test_size=0.2, random_state=42)\n",
        "val_df, test_df = train_test_split(temp_df, test_size=0.5, random_state=42)"
      ],
      "metadata": {
        "id": "3G1xH4u9I3Ws"
      },
      "execution_count": 41,
      "outputs": []
    },
    {
      "cell_type": "markdown",
      "source": [
        "**train_test_split(df, test_size=0.2, random_state=42):** Bu fonksiyon, veri setini eğitim ve test setlerine böler. df veri seti, test_size parametresine belirtilen oranda (bu örnekte %20) test seti olarak ayrılır. random_state parametresi, veri setinin karıştırılması ve bölünmesi sırasında kullanılan rastgele durumun sabitlenmesini sağlar, bu da kodun tekrarlanabilir olmasını sağlar.\n",
        "\n",
        "**train_df:** Eğitim setini temsil eden DataFrame'i tutar.\n",
        "\n",
        "**temp_df:** Kalan verileri içeren geçici bir DataFrame'i tutar.\n",
        "\n",
        "**train_test_split(temp_df, test_size=0.5, random_state=42):** Geçici DataFrame olan temp_df üzerinde tekrar train_test_split işlemi uygulanır. Bu sefer, test_size parametresi %50 olarak ayarlanır, böylece temp_df DataFrame'i eşit bir şekilde doğrulama ve test setlerine bölünür.\n",
        "\n",
        "**val_df:** Doğrulama setini temsil eden DataFrame'i tutar.\n",
        "\n",
        "**test_df:** Test setini temsil eden DataFrame'i tutar."
      ],
      "metadata": {
        "id": "PwxrUNEOcnu2"
      }
    },
    {
      "cell_type": "markdown",
      "source": [
        "### **Veri Artırma ve Çift Çıktı Jeneratörlerinin Oluşturulması**"
      ],
      "metadata": {
        "id": "9HEwjoQwcq5K"
      }
    },
    {
      "cell_type": "code",
      "source": [
        "# Veri artırma ve çift çıktı işleme\n",
        "def multi_output_generator(dataframe, batch_size=32, img_size=(224, 224)):\n",
        "    datagen = ImageDataGenerator(preprocessing_function=preprocess_input)\n",
        "\n",
        "    generator = datagen.flow_from_dataframe(\n",
        "        dataframe,\n",
        "        x_col='filename',\n",
        "        y_col=['label', 'gender'],\n",
        "        target_size=img_size,\n",
        "        batch_size=batch_size,\n",
        "        class_mode='raw',\n",
        "        shuffle=True\n",
        "    )\n",
        "\n",
        "    while True:\n",
        "        x, y = next(generator)\n",
        "        mask_labels = y[:, 0]\n",
        "        gender_labels = y[:, 1]\n",
        "        gender_labels = tf.keras.utils.to_categorical(gender_labels, num_classes=2)\n",
        "        yield x, [mask_labels, gender_labels]\n",
        "\n",
        "batch_size = 4  # Batch size değerini sabit olarak ayarlayalım\n",
        "\n",
        "train_generator = multi_output_generator(train_df, batch_size=batch_size)\n",
        "val_generator = multi_output_generator(val_df, batch_size=batch_size)"
      ],
      "metadata": {
        "id": "dJnqN1GAI6Aw"
      },
      "execution_count": 42,
      "outputs": []
    },
    {
      "cell_type": "markdown",
      "source": [
        "def multi_output_generator(dataframe, batch_size=32, img_size=(224, 224)):: Bu satır, multi_output_generator adında bir jeneratör fonksiyonu tanımlar. Bu fonksiyon, veri artırma ve çift çıktı işlemini gerçekleştirir. Fonksiyon, bir DataFrame (dataframe), batch boyutu (batch_size), ve hedef görüntü boyutu (img_size) gibi parametreler alır.\n",
        "\n",
        "datagen = ImageDataGenerator(preprocessing_function=preprocess_input): Görüntü veri artırma işlemi için bir ImageDataGenerator nesnesi oluşturur. preprocess_input fonksiyonunu ön işleme işlemi için kullanır.\n",
        "\n",
        "generator = datagen.flow_from_dataframe(...): ImageDataGenerator nesnesini kullanarak bir veri akışı oluşturur. Bu veri akışı, DataFrame'deki dosya adlarını ('filename') ve ilgili etiketlerini (['label', 'gender']) kullanarak görüntüler ve etiketler üretir. Bu işlem, veri artırma işlemi de dahil olmak üzere ön işleme işlemlerini gerçekleştirir.\n",
        "\n",
        "while True:: Sonsuz bir döngü oluşturur. Bu, jeneratörün sürekli olarak veri üretmesini sağlar.\n",
        "\n",
        "x, y = next(generator): Bir sonraki batch görüntüsünü ve etiketlerini alır.\n",
        "\n",
        "mask_labels = y[:, 0]: Etiketlerden maske etiketlerini seçer.\n",
        "\n",
        "gender_labels = y[:, 1]: Etiketlerden cinsiyet etiketlerini seçer.\n",
        "\n",
        "gender_labels = tf.keras.utils.to_categorical(gender_labels, num_classes=2): Cinsiyet etiketlerini kategorik olarak kodlar. Bu işlem, cinsiyet etiketlerini 0 ve 1 olmak üzere iki sınıfa dönüştürür.\n",
        "\n",
        "yield x, [mask_labels, gender_labels]: Üretilen görüntülerle birlikte mask ve cinsiyet etiketlerini döndürür. Bu, çift çıktı (multi-output) model eğitimi için gereklidir.\n",
        "\n",
        "Veri Oluşturma\n",
        "batch_size = 4: Batch boyutunu sabit olarak ayarlar.\n",
        "\n",
        "train_generator = multi_output_generator(train_df, batch_size=batch_size): Eğitim jeneratörünü oluşturur. Bu, train_df DataFrame'i kullanılarak eğitim verisi için bir veri akışı sağlar.\n",
        "\n",
        "val_generator = multi_output_generator(val_df, batch_size=batch_size): Doğrulama jeneratörünü oluşturur. Bu, val_df DataFrame'i kullanılarak doğrulama verisi için bir veri akışı sağlar."
      ],
      "metadata": {
        "id": "by2g2H3fctAD"
      }
    },
    {
      "cell_type": "markdown",
      "source": [
        "### **Modeli Oluşturma**\n"
      ],
      "metadata": {
        "id": "IIqGB-5-cyuL"
      }
    },
    {
      "cell_type": "code",
      "source": [
        "# Modeli oluşturma\n",
        "def create_combined_model(input_shape=(224, 224, 3)):\n",
        "    base_model = VGG16(weights='imagenet', include_top=False, input_shape=input_shape)\n",
        "\n",
        "    # Freeze the layers of the base model\n",
        "    for layer in base_model.layers:\n",
        "        layer.trainable = False\n",
        "\n",
        "    x = Flatten()(base_model.output)\n",
        "\n",
        "    # Adding a few dense layers\n",
        "    x = Dense(2048, activation='relu')(x)\n",
        "    x = Dense(1024, activation='relu')(x)\n",
        "    x = Dense(512, activation='relu')(x)\n",
        "    x = Dense(256, activation='relu')(x)\n",
        "    x = Dense(128, activation='relu')(x)\n",
        "\n",
        "    # Add output layers for mask detection and gender classification\n",
        "    mask_output = Dense(1, activation='sigmoid', name='mask_output')(x)\n",
        "    gender_output = Dense(2, activation='softmax', name='gender_output')(x)\n",
        "\n",
        "    # Create the combined model\n",
        "    model = Model(inputs=base_model.input, outputs=[mask_output, gender_output])\n",
        "\n",
        "    return model"
      ],
      "metadata": {
        "id": "ZjCLpQpDJDGw"
      },
      "execution_count": 43,
      "outputs": []
    },
    {
      "cell_type": "markdown",
      "source": [
        "def create_combined_model(input_shape=(224, 224, 3)):: Bu satır, create_combined_model adında bir fonksiyon tanımlar. Bu fonksiyon, bir derin öğrenme modeli oluşturur. İlgili parametre input_shape, giriş görüntülerinin boyutunu belirtir (varsayılan olarak (224, 224, 3)).\n",
        "\n",
        "base_model = VGG16(weights='imagenet', include_top=False, input_shape=input_shape): VGG16 modelini, ImageNet veri kümesinde eğitilmiş ağırlıklarla birlikte, belirtilen giriş şekliyle oluşturur. include_top=False parametresi, VGG16'nın tam bağlantı katmanlarını (fully connected layers) dahil etmemesini sağlar.\n",
        "\n",
        "for layer in base_model.layers: layer.trainable = False: VGG16 modelinin katmanlarını dondurur, yani eğitim sırasında ağırlıklarını güncellemeyi engeller.\n",
        "\n",
        "x = Flatten()(base_model.output): Flatten katmanı ile VGG16 modelinin çıktısını düzleştirir. Bu, çıktıyı tek boyutlu hale getirir, böylece ardışık tam bağlantı katmanlarına girebilir.\n",
        "\n",
        "Dense Katmanları: Ardışık tam bağlantı katmanları ekler. Her katmanın ardından ReLU aktivasyon fonksiyonu uygulanır. Bu, modelin daha karmaşık özellikleri öğrenmesine ve veri setindeki desenleri çıkarmasına yardımcı olur.\n",
        "\n",
        "\n",
        "Bu kod parçası, VGG16 mimarisini temel alarak bir derin öğrenme modeli oluşturur. VGG16 modelinin özellik çıkarma katmanları dondurulur ve ardışık tam bağlantı katmanları eklenir. Bu, veri setine özgü görsel özellikleri öğrenmek ve modelin çıktılarını üretmek için kullanılır.\n",
        "\n",
        "mask_output = Dense(1, activation='sigmoid', name='mask_output')(x): Maskeli yüz tespiti için bir çıktı katmanı ekler. Bu katman, bir tane çıktı üretir ve bu çıktıyı sigmoid aktivasyon fonksiyonuyla sınırlar. Çünkü maskenin var olup olmadığını binary olarak belirlemek istiyoruz.\n",
        "\n",
        "gender_output = Dense(2, activation='softmax', name='gender_output')(x): Cinsiyet sınıflandırması için bir çıktı katmanı ekler. Bu katman, iki sınıf arasında olasılıkları dağıtır ve bu yüzden softmax aktivasyon fonksiyonu kullanılır.\n",
        "\n",
        "model = Model(inputs=base_model.input, outputs=[mask_output, gender_output]): Model sınıfını kullanarak birleştirilmiş modeli oluşturur. Girişleri ve çıktıları belirtirken, giriş olarak temel modelin girişini (base_model.input) ve çıktı olarak mask_output ve gender_output katmanlarını kullanır.\n",
        "\n",
        "return model: Oluşturulan birleştirilmiş modeli döndürür."
      ],
      "metadata": {
        "id": "GwLC5batJPAg"
      }
    },
    {
      "cell_type": "markdown",
      "source": [
        "### **Birleştirilmiş Modelin Oluşturulması ve Derlenmesi**"
      ],
      "metadata": {
        "id": "tKHNSyVuc9TS"
      }
    },
    {
      "cell_type": "code",
      "source": [
        "combined_model = create_combined_model()\n",
        "\n",
        "# Modelin derlenmesi\n",
        "combined_model.compile(\n",
        "    optimizer=Adam(learning_rate=0.0001),\n",
        "    loss={\n",
        "        'mask_output': 'binary_crossentropy',\n",
        "        'gender_output': 'categorical_crossentropy'\n",
        "    },\n",
        "    metrics={\n",
        "        'mask_output': 'accuracy',\n",
        "        'gender_output': 'accuracy'\n",
        "    }\n",
        ")\n"
      ],
      "metadata": {
        "id": "CH5t2kQ_JQ52"
      },
      "execution_count": 44,
      "outputs": []
    },
    {
      "cell_type": "markdown",
      "source": [
        "create_combined_model() fonksiyonu çağrılarak birleştirilmiş derin öğrenme modeli oluşturulur ve combined_model değişkenine atılır. Bu model, önceden tanımlanan giriş ve çıktı katmanlarını içerir.\n",
        "\n",
        "compile() fonksiyonu, modelin derlenmesini sağlar. Bu adım, modelin optimize ediciyi, kayıp fonksiyonlarını ve metriklerini belirtir.\n",
        "\n",
        "optimizer=Adam(learning_rate=0.0001): Adam optimize edici kullanılarak modelin derlenmesi sağlanır. Öğrenme hızı (learning rate) 0.0001 olarak ayarlanır.\n",
        "\n",
        "loss={'mask_output': 'binary_crossentropy', 'gender_output': 'categorical_crossentropy'}: Mask_output ve gender_output için kayıp fonksiyonları belirlenir. Mask_output için ikili çapraz entropi (binary crossentropy), gender_output için kategorik çapraz entropi (categorical crossentropy) kullanılır.\n",
        "\n",
        "metrics={'mask_output': 'accuracy', 'gender_output': 'accuracy'}: Mask_output ve gender_output için metrikler belirlenir. Doğruluk (accuracy) metriği kullanılır."
      ],
      "metadata": {
        "id": "iZxfJST9c_zJ"
      }
    },
    {
      "cell_type": "markdown",
      "source": [
        "### **Eğitim ve Doğrulama Adımlarının Hesaplanması**"
      ],
      "metadata": {
        "id": "KLP9VwOidCWP"
      }
    },
    {
      "cell_type": "code",
      "source": [
        "# steps_per_epoch ve validation_steps değerlerini doğru hesaplayalım\n",
        "steps_per_epoch = max(len(train_df) // batch_size, 1)\n",
        "validation_steps = max(len(val_df) // batch_size, 1)"
      ],
      "metadata": {
        "id": "IsdU7Z0NJUJY"
      },
      "execution_count": 45,
      "outputs": []
    },
    {
      "cell_type": "markdown",
      "source": [
        "len(train_df) // batch_size: Eğitim veri setinin boyutunu batch boyutuna böler. Bu, bir eğitim döngüsünde her epoch'ta kaç adımın olacağını belirler.\n",
        "\n",
        "len(val_df) // batch_size: Doğrulama veri setinin boyutunu batch boyutuna böler. Bu, bir doğrulama döngüsünde her epoch'ta kaç adımın olacağını belirler.\n",
        "\n",
        "max(..., 1): Eğer hesaplanan adım sayısı sıfırsa, minimum bir adım olmasını sağlar. Bu, bir epoch'ta en az bir adımın gerçekleşmesini sağlar."
      ],
      "metadata": {
        "id": "fX8qLy_UJWMX"
      }
    },
    {
      "cell_type": "markdown",
      "source": [
        "### **Modelin Eğitilmesi**"
      ],
      "metadata": {
        "id": "V1GP8fWEdIat"
      }
    },
    {
      "cell_type": "markdown",
      "source": [
        "combined_model.fit(...): Modelin eğitimini gerçekleştirir. Bu yöntem, modeli veriyle eğitmek için kullanılır.\n",
        "\n",
        "train_generator: Eğitim veri akışını belirtir. Bu, modelin eğitim verilerini almasını sağlar.\n",
        "\n",
        "steps_per_epoch: Bir epoch boyunca alınacak adım sayısını belirtir. Eğitim verisi batch'lerinin kaç adımda bir epoch'u tamamlaması gerektiğini belirtir.\n",
        "\n",
        "validation_data=val_generator: Doğrulama veri akışını belirtir. Bu, modelin eğitim sırasında doğrulama seti üzerinde performansını değerlendirmesini sağlar.\n",
        "\n",
        "validation_steps: Bir doğrulama epoch'u boyunca alınacak adım sayısını belirtir. Doğrulama verisi batch'lerinin kaç adımda bir epoch'u tamamlaması gerektiğini belirtir.\n",
        "\n",
        "epochs=10: Modelin kaç epoch boyunca eğitileceğini belirtir. Bir epoch, tüm eğitim verisi setini bir kez geçme anlamına gelir.\n",
        "\n",
        "history: Eğitim sırasında elde edilen metriklerin (örneğin, kayıp ve doğruluk) epoch bazında değerlerini içeren bir sözlük nesnesini temsil eder.\n",
        "\n",
        "\n",
        "Bu kod parçası, birleştirilmiş modelin eğitilmesini sağlar. Model, eğitim ve doğrulama veri akışları üzerinde belirtilen adımlar ve epoch sayısı boyunca eğitilir. Eğitim sırasında elde edilen metrikler history değişkenine kaydedilir."
      ],
      "metadata": {
        "id": "2yB92D56dL6b"
      }
    },
    {
      "cell_type": "code",
      "source": [
        "# Modelin eğitilmesi\n",
        "history = combined_model.fit(\n",
        "    train_generator,\n",
        "    steps_per_epoch=steps_per_epoch,\n",
        "    validation_data=val_generator,\n",
        "    validation_steps=validation_steps,\n",
        "    epochs=10\n",
        ")\n",
        "\n"
      ],
      "metadata": {
        "id": "zO9b0FHuJWnN",
        "colab": {
          "base_uri": "https://localhost:8080/"
        },
        "outputId": "d6a2b386-8572-4bb5-bf80-288e5a022c31"
      },
      "execution_count": 46,
      "outputs": [
        {
          "output_type": "stream",
          "name": "stdout",
          "text": [
            "Found 34 validated image filenames.\n",
            "Epoch 1/10\n",
            "8/8 [==============================] - ETA: 0s - loss: 3.0672 - mask_output_loss: 0.9782 - gender_output_loss: 2.0890 - mask_output_accuracy: 0.7188 - gender_output_accuracy: 0.5625Found 4 validated image filenames.\n",
            "8/8 [==============================] - 36s 4s/step - loss: 3.0672 - mask_output_loss: 0.9782 - gender_output_loss: 2.0890 - mask_output_accuracy: 0.7188 - gender_output_accuracy: 0.5625 - val_loss: 0.2726 - val_mask_output_loss: 0.0065 - val_gender_output_loss: 0.2661 - val_mask_output_accuracy: 1.0000 - val_gender_output_accuracy: 0.7500\n",
            "Epoch 2/10\n",
            "8/8 [==============================] - 34s 4s/step - loss: 1.1626 - mask_output_loss: 0.7063 - gender_output_loss: 0.4563 - mask_output_accuracy: 0.8667 - gender_output_accuracy: 0.8667 - val_loss: 0.6847 - val_mask_output_loss: 5.0557e-04 - val_gender_output_loss: 0.6842 - val_mask_output_accuracy: 1.0000 - val_gender_output_accuracy: 0.7500\n",
            "Epoch 3/10\n",
            "8/8 [==============================] - 30s 4s/step - loss: 0.3963 - mask_output_loss: 0.1855 - gender_output_loss: 0.2107 - mask_output_accuracy: 0.9667 - gender_output_accuracy: 0.9333 - val_loss: 7.3947 - val_mask_output_loss: 0.1994 - val_gender_output_loss: 7.1952 - val_mask_output_accuracy: 1.0000 - val_gender_output_accuracy: 0.5000\n",
            "Epoch 4/10\n",
            "8/8 [==============================] - 31s 4s/step - loss: 0.0404 - mask_output_loss: 0.0403 - gender_output_loss: 4.3944e-05 - mask_output_accuracy: 1.0000 - gender_output_accuracy: 1.0000 - val_loss: 3.3133 - val_mask_output_loss: 1.0536e-04 - val_gender_output_loss: 3.3132 - val_mask_output_accuracy: 1.0000 - val_gender_output_accuracy: 0.5000\n",
            "Epoch 5/10\n",
            "8/8 [==============================] - 31s 4s/step - loss: 9.9972e-06 - mask_output_loss: 2.2093e-06 - gender_output_loss: 7.7879e-06 - mask_output_accuracy: 1.0000 - gender_output_accuracy: 1.0000 - val_loss: 1.6770 - val_mask_output_loss: 4.5145e-06 - val_gender_output_loss: 1.6770 - val_mask_output_accuracy: 1.0000 - val_gender_output_accuracy: 0.5000\n",
            "Epoch 6/10\n",
            "8/8 [==============================] - 31s 4s/step - loss: 8.0632e-04 - mask_output_loss: 1.3905e-07 - gender_output_loss: 8.0618e-04 - mask_output_accuracy: 1.0000 - gender_output_accuracy: 1.0000 - val_loss: 1.4900 - val_mask_output_loss: 9.2799e-07 - val_gender_output_loss: 1.4900 - val_mask_output_accuracy: 1.0000 - val_gender_output_accuracy: 0.5000\n",
            "Epoch 7/10\n",
            "8/8 [==============================] - 35s 5s/step - loss: 4.4230e-06 - mask_output_loss: 3.7630e-10 - gender_output_loss: 4.4226e-06 - mask_output_accuracy: 1.0000 - gender_output_accuracy: 1.0000 - val_loss: 1.5262 - val_mask_output_loss: 4.4073e-07 - val_gender_output_loss: 1.5262 - val_mask_output_accuracy: 1.0000 - val_gender_output_accuracy: 0.5000\n",
            "Epoch 8/10\n",
            "8/8 [==============================] - 32s 4s/step - loss: 3.0219e-06 - mask_output_loss: 3.7704e-08 - gender_output_loss: 2.9841e-06 - mask_output_accuracy: 1.0000 - gender_output_accuracy: 1.0000 - val_loss: 1.5434 - val_mask_output_loss: 3.1104e-07 - val_gender_output_loss: 1.5434 - val_mask_output_accuracy: 1.0000 - val_gender_output_accuracy: 0.5000\n",
            "Epoch 9/10\n",
            "8/8 [==============================] - 31s 4s/step - loss: 2.9818e-06 - mask_output_loss: 3.7388e-08 - gender_output_loss: 2.9444e-06 - mask_output_accuracy: 1.0000 - gender_output_accuracy: 1.0000 - val_loss: 1.5596 - val_mask_output_loss: 2.6425e-07 - val_gender_output_loss: 1.5596 - val_mask_output_accuracy: 1.0000 - val_gender_output_accuracy: 0.5000\n",
            "Epoch 10/10\n",
            "8/8 [==============================] - 31s 4s/step - loss: 2.0776e-06 - mask_output_loss: 3.6138e-08 - gender_output_loss: 2.0414e-06 - mask_output_accuracy: 1.0000 - gender_output_accuracy: 1.0000 - val_loss: 1.5663 - val_mask_output_loss: 2.4539e-07 - val_gender_output_loss: 1.5663 - val_mask_output_accuracy: 1.0000 - val_gender_output_accuracy: 0.5000\n"
          ]
        }
      ]
    },
    {
      "cell_type": "markdown",
      "source": [
        "### **Modelin Kaydedilmesi**\n",
        "\n",
        "combined_model.save(...): Eğitilmiş birleştirilmiş modeli diske kaydetmek için kullanılır. Bu yöntem, modelin mimarisini ve ağırlıklarını diskteki bir dosyaya kaydeder.\n",
        "\n",
        "'combined_mask_gender_model.h5': Kaydedilecek model dosyasının adını belirtir. Bu örnekte, modelin \"combined_mask_gender_model.h5\" adlı bir dosyaya kaydedilmesi sağlanır."
      ],
      "metadata": {
        "id": "j-EBeslYdPDc"
      }
    },
    {
      "cell_type": "code",
      "source": [
        "# Modelin kaydedilmesi\n",
        "combined_model.save('combined_mask_gender_model.h5')"
      ],
      "metadata": {
        "id": "c-CF_YnoJY88",
        "colab": {
          "base_uri": "https://localhost:8080/"
        },
        "outputId": "e41c24c7-0aee-4004-d01c-a8755092c2ec"
      },
      "execution_count": 47,
      "outputs": [
        {
          "output_type": "stream",
          "name": "stderr",
          "text": [
            "/usr/local/lib/python3.10/dist-packages/keras/src/engine/training.py:3103: UserWarning: You are saving your model as an HDF5 file via `model.save()`. This file format is considered legacy. We recommend using instead the native Keras format, e.g. `model.save('my_model.keras')`.\n",
            "  saving_api.save_model(\n"
          ]
        }
      ]
    },
    {
      "cell_type": "markdown",
      "source": [
        "### **Modelin Çıktısının Alınması**\n",
        "\n",
        "### **Kütüphaneler**\n"
      ],
      "metadata": {
        "id": "beT29-JNJbwp"
      }
    },
    {
      "cell_type": "code",
      "source": [
        "import tensorflow as tf\n",
        "import numpy as np\n",
        "import os\n",
        "from tensorflow.keras.preprocessing import image\n",
        "from tensorflow.keras.applications.vgg16 import preprocess_input\n"
      ],
      "metadata": {
        "id": "7rNCWVE8JcTy"
      },
      "execution_count": 48,
      "outputs": []
    },
    {
      "cell_type": "markdown",
      "source": [
        "•\ttensorflow ve numpy kütüphaneleri içe aktarılır. TensorFlow, derin öğrenme modellerini oluşturmak ve eğitmek için kullanılırken, NumPy, sayısal hesaplamalar için kullanılır.\n",
        "•\tos modülü, dosya ve dizin işlemleri için kullanılır.\n",
        "•\ttensorflow.keras.preprocessing modülünden image sınıfı, görüntüleri yüklemek ve işlemek için kullanılır.\n",
        "•\ttensorflow.keras.applications.vgg16 modülünden preprocess_input fonksiyonu, görüntü verilerini VGG16 modeline uygun şekilde ön işlemek için kullanılır.\n"
      ],
      "metadata": {
        "id": "cYRN2v8Ide15"
      }
    },
    {
      "cell_type": "markdown",
      "source": [
        "### **Modelin Yüklenmesi ve Test Verisinin Yolu**"
      ],
      "metadata": {
        "id": "ZdSAOt-Edh9E"
      }
    },
    {
      "cell_type": "code",
      "source": [
        "# Modeli yükleyin\n",
        "model = tf.keras.models.load_model('combined_mask_gender_model.h5')\n",
        "\n",
        "# Test veri yolunu belirleyin\n",
        "test_data_path = '/content/drive/My Drive/New Masks Dataset/Test'"
      ],
      "metadata": {
        "id": "qkcWPNlWJgyQ"
      },
      "execution_count": 49,
      "outputs": []
    },
    {
      "cell_type": "markdown",
      "source": [
        "•\tDaha önce eğitilmiş olan combined_mask_gender_model.h5 adlı model, load_model fonksiyonu kullanılarak yüklenir.\n",
        "•\ttest_data_path değişkeni, test verilerinin bulunduğu dizinin yolunu belirtir.\n"
      ],
      "metadata": {
        "id": "C9zCQyO8dkFj"
      }
    },
    {
      "cell_type": "markdown",
      "source": [
        "### **Test Verilerinin Yüklenmesi ve İşlenmesi**\n"
      ],
      "metadata": {
        "id": "LjdsUi87dnGF"
      }
    },
    {
      "cell_type": "code",
      "source": [
        "# Test verilerini yükleyin ve işleyin\n",
        "def load_and_preprocess_image(img_path):\n",
        "    img = image.load_img(img_path, target_size=(224, 224))\n",
        "    img_array = image.img_to_array(img)\n",
        "    img_array = np.expand_dims(img_array, axis=0)\n",
        "    img_array = preprocess_input(img_array)\n",
        "    return img_array"
      ],
      "metadata": {
        "id": "Yt7JCBV-Jjme"
      },
      "execution_count": 50,
      "outputs": []
    },
    {
      "cell_type": "markdown",
      "source": [
        "•\tload_and_preprocess_image fonksiyonu, bir görüntüyü yükleyip modelin kabul edebileceği formata getirir.\n",
        "o\timage.load_img: Belirtilen yoldaki görüntüyü yükler ve 224x224 piksel boyutuna getirir.\n",
        "o\timage.img_to_array: Görüntüyü NumPy dizisine dönüştürür.\n",
        "o\tnp.expand_dims: Görüntü dizisinin boyutunu genişletir (modelin kabul edebileceği 4 boyutlu bir tensöre dönüştürür).\n",
        "o\tpreprocess_input: VGG16 modeline uygun şekilde görüntüyü ön işler.\n"
      ],
      "metadata": {
        "id": "_SxPswBZdqhy"
      }
    },
    {
      "cell_type": "code",
      "source": [
        "# Tahmin yapın ve sonuçları yazdırın\n",
        "def predict_and_display_results(test_data_path):\n",
        "    for root, dirs, files in os.walk(test_data_path):\n",
        "        for img_name in files:\n",
        "            img_path = os.path.join(root, img_name)\n",
        "            if img_name.lower().endswith(('.png', '.jpg', '.jpeg')):  # Yalnızca görüntü dosyalarını işleyin\n",
        "                img_array = load_and_preprocess_image(img_path)\n",
        "\n",
        "                predictions = model.predict(img_array)\n",
        "                mask_prediction = predictions[0][0]\n",
        "                gender_prediction = np.argmax(predictions[1][0])\n",
        "\n",
        "                mask_label = \"Mask\" if mask_prediction > 0.5 else \"No Mask\"\n",
        "                gender_label = \"Male\" if gender_prediction == 1 else \"Female\"\n",
        "\n",
        "                print(f\"Image: {img_name}, Mask Prediction: {mask_label}, Gender Prediction: {gender_label}\")"
      ],
      "metadata": {
        "id": "pA4ytrvUJmEz"
      },
      "execution_count": 51,
      "outputs": []
    },
    {
      "cell_type": "markdown",
      "source": [
        "•\tpredict_and_display_results fonksiyonu, test verilerindeki görüntüleri işleyip tahminlerde bulunur ve sonuçları yazdırır.\n",
        "o\tos.walk: Belirtilen dizindeki tüm dosya ve alt dizinleri tarar.\n",
        "o\tGörüntü dosyalarının yolunu kontrol eder ve .png, .jpg, .jpeg uzantılı dosyaları işler.\n",
        "o\tload_and_preprocess_image fonksiyonunu kullanarak görüntüyü yükler ve işler.\n",
        "o\tmodel.predict: İşlenmiş görüntü üzerinde modelin tahmin yapmasını sağlar.\n",
        "o\tTahmin sonuçlarını maske (mask / no mask) ve cinsiyet (male / female) olarak etiketler.\n",
        "o\tSonuçları konsola yazdırır.\n"
      ],
      "metadata": {
        "id": "I5IHXJkLdxET"
      }
    },
    {
      "cell_type": "markdown",
      "source": [
        "### **Tahmin Yapma ve Sonuçları Yazdırma**\n"
      ],
      "metadata": {
        "id": "bHGvsux7dtjw"
      }
    },
    {
      "cell_type": "markdown",
      "source": [
        "•\tpredict_and_display_results fonksiyonu çağrılarak test verileri üzerinde tahmin işlemi başlatılır ve sonuçlar yazdırılır.\n"
      ],
      "metadata": {
        "id": "MZwXx15Sd1eD"
      }
    },
    {
      "cell_type": "code",
      "source": [
        "# Test verileri ile tahmin yapın\n",
        "predict_and_display_results(test_data_path)\n"
      ],
      "metadata": {
        "id": "mJMmngLmJpbG",
        "colab": {
          "base_uri": "https://localhost:8080/"
        },
        "outputId": "972b2e4f-a9a6-429f-c171-90536a7a3a49"
      },
      "execution_count": 52,
      "outputs": [
        {
          "output_type": "stream",
          "name": "stdout",
          "text": [
            "1/1 [==============================] - 1s 1s/step\n",
            "Image: real_01066.jpg, Mask Prediction: Mask, Gender Prediction: Male\n",
            "1/1 [==============================] - 1s 1s/step\n",
            "Image: real_01041.jpg, Mask Prediction: No Mask, Gender Prediction: Female\n",
            "1/1 [==============================] - 1s 807ms/step\n",
            "Image: real_01055.jpg, Mask Prediction: No Mask, Gender Prediction: Female\n",
            "1/1 [==============================] - 1s 559ms/step\n",
            "Image: real_01038.jpg, Mask Prediction: No Mask, Gender Prediction: Female\n",
            "1/1 [==============================] - 1s 570ms/step\n",
            "Image: real_01072.jpg, Mask Prediction: No Mask, Gender Prediction: Male\n",
            "1/1 [==============================] - 1s 572ms/step\n",
            "Image: real_01035.jpg, Mask Prediction: No Mask, Gender Prediction: Female\n",
            "1/1 [==============================] - 1s 565ms/step\n",
            "Image: real_01044.jpg, Mask Prediction: No Mask, Gender Prediction: Female\n",
            "1/1 [==============================] - 1s 574ms/step\n",
            "Image: real_01071.jpg, Mask Prediction: No Mask, Gender Prediction: Male\n",
            "1/1 [==============================] - 1s 568ms/step\n",
            "Image: real_01077.jpg, Mask Prediction: No Mask, Gender Prediction: Female\n",
            "1/1 [==============================] - 1s 552ms/step\n",
            "Image: real_01033.jpg, Mask Prediction: Mask, Gender Prediction: Female\n",
            "1/1 [==============================] - 1s 574ms/step\n",
            "Image: real_01032.jpg, Mask Prediction: No Mask, Gender Prediction: Female\n",
            "1/1 [==============================] - 1s 568ms/step\n",
            "Image: real_01062.jpg, Mask Prediction: No Mask, Gender Prediction: Female\n",
            "1/1 [==============================] - 1s 558ms/step\n",
            "Image: real_01070.jpg, Mask Prediction: No Mask, Gender Prediction: Female\n",
            "1/1 [==============================] - 1s 576ms/step\n",
            "Image: real_01069.jpg, Mask Prediction: No Mask, Gender Prediction: Female\n",
            "1/1 [==============================] - 1s 561ms/step\n",
            "Image: real_01037.jpg, Mask Prediction: No Mask, Gender Prediction: Female\n",
            "1/1 [==============================] - 1s 584ms/step\n",
            "Image: real_01081.jpg, Mask Prediction: Mask, Gender Prediction: Female\n",
            "1/1 [==============================] - 1s 570ms/step\n",
            "Image: real_01065.jpg, Mask Prediction: No Mask, Gender Prediction: Female\n",
            "1/1 [==============================] - 1s 593ms/step\n",
            "Image: real_01061.jpg, Mask Prediction: No Mask, Gender Prediction: Female\n",
            "1/1 [==============================] - 1s 933ms/step\n",
            "Image: real_01073.jpg, Mask Prediction: No Mask, Gender Prediction: Male\n",
            "1/1 [==============================] - 1s 975ms/step\n",
            "Image: real_01058.jpg, Mask Prediction: No Mask, Gender Prediction: Male\n",
            "1/1 [==============================] - 1s 942ms/step\n",
            "Image: real_01080.jpg, Mask Prediction: No Mask, Gender Prediction: Female\n",
            "1/1 [==============================] - 1s 1s/step\n",
            "Image: real_01049.jpg, Mask Prediction: No Mask, Gender Prediction: Female\n",
            "1/1 [==============================] - 1s 811ms/step\n",
            "Image: real_01048.jpg, Mask Prediction: No Mask, Gender Prediction: Female\n",
            "1/1 [==============================] - 1s 617ms/step\n",
            "Image: real_01060.jpg, Mask Prediction: No Mask, Gender Prediction: Male\n",
            "1/1 [==============================] - 1s 568ms/step\n",
            "Image: real_01075.jpg, Mask Prediction: No Mask, Gender Prediction: Female\n",
            "1/1 [==============================] - 1s 571ms/step\n",
            "Image: real_01068.jpg, Mask Prediction: No Mask, Gender Prediction: Male\n",
            "1/1 [==============================] - 1s 568ms/step\n",
            "Image: real_01046.jpg, Mask Prediction: Mask, Gender Prediction: Male\n",
            "1/1 [==============================] - 1s 562ms/step\n",
            "Image: real_01039.jpg, Mask Prediction: No Mask, Gender Prediction: Female\n",
            "1/1 [==============================] - 1s 588ms/step\n",
            "Image: real_01067.jpg, Mask Prediction: No Mask, Gender Prediction: Male\n",
            "1/1 [==============================] - 1s 577ms/step\n",
            "Image: real_01034.jpg, Mask Prediction: No Mask, Gender Prediction: Female\n",
            "1/1 [==============================] - 1s 547ms/step\n",
            "Image: real_01051.jpg, Mask Prediction: No Mask, Gender Prediction: Female\n",
            "1/1 [==============================] - 1s 585ms/step\n",
            "Image: real_01079.jpg, Mask Prediction: No Mask, Gender Prediction: Male\n",
            "1/1 [==============================] - 1s 553ms/step\n",
            "Image: real_01059.jpg, Mask Prediction: No Mask, Gender Prediction: Male\n",
            "1/1 [==============================] - 1s 565ms/step\n",
            "Image: real_01076.jpg, Mask Prediction: No Mask, Gender Prediction: Female\n",
            "1/1 [==============================] - 1s 579ms/step\n",
            "Image: real_01056.jpg, Mask Prediction: No Mask, Gender Prediction: Female\n",
            "1/1 [==============================] - 1s 551ms/step\n",
            "Image: real_01040.jpg, Mask Prediction: No Mask, Gender Prediction: Female\n",
            "1/1 [==============================] - 1s 597ms/step\n",
            "Image: real_01050.jpg, Mask Prediction: No Mask, Gender Prediction: Female\n",
            "1/1 [==============================] - 1s 944ms/step\n",
            "Image: real_01054.jpg, Mask Prediction: No Mask, Gender Prediction: Female\n",
            "1/1 [==============================] - 1s 1s/step\n",
            "Image: real_01045.jpg, Mask Prediction: No Mask, Gender Prediction: Female\n",
            "1/1 [==============================] - 1s 1s/step\n",
            "Image: real_01043.jpg, Mask Prediction: No Mask, Gender Prediction: Female\n",
            "1/1 [==============================] - 1s 1s/step\n",
            "Image: real_01063.jpg, Mask Prediction: No Mask, Gender Prediction: Male\n",
            "1/1 [==============================] - 1s 1s/step\n",
            "Image: real_01064.jpg, Mask Prediction: No Mask, Gender Prediction: Female\n",
            "1/1 [==============================] - 1s 1s/step\n",
            "Image: real_01047.jpg, Mask Prediction: No Mask, Gender Prediction: Female\n",
            "1/1 [==============================] - 1s 1s/step\n",
            "Image: real_01078.jpg, Mask Prediction: No Mask, Gender Prediction: Female\n",
            "1/1 [==============================] - 1s 1s/step\n",
            "Image: real_01057.jpg, Mask Prediction: No Mask, Gender Prediction: Male\n",
            "1/1 [==============================] - 1s 883ms/step\n",
            "Image: real_01036.jpg, Mask Prediction: No Mask, Gender Prediction: Female\n",
            "1/1 [==============================] - 1s 578ms/step\n",
            "Image: 2072.jpg, Mask Prediction: Mask, Gender Prediction: Male\n",
            "1/1 [==============================] - 1s 558ms/step\n",
            "Image: 2086.jpg, Mask Prediction: Mask, Gender Prediction: Male\n",
            "1/1 [==============================] - 1s 566ms/step\n",
            "Image: 2190.png, Mask Prediction: Mask, Gender Prediction: Male\n",
            "1/1 [==============================] - 1s 570ms/step\n",
            "Image: 2174.png, Mask Prediction: Mask, Gender Prediction: Male\n",
            "1/1 [==============================] - 1s 569ms/step\n",
            "Image: 2182.png, Mask Prediction: Mask, Gender Prediction: Male\n",
            "1/1 [==============================] - 1s 572ms/step\n",
            "Image: 2188.png, Mask Prediction: Mask, Gender Prediction: Male\n",
            "1/1 [==============================] - 1s 576ms/step\n",
            "Image: 2178.png, Mask Prediction: Mask, Gender Prediction: Female\n",
            "1/1 [==============================] - 1s 554ms/step\n",
            "Image: 2172.png, Mask Prediction: Mask, Gender Prediction: Female\n",
            "1/1 [==============================] - 1s 567ms/step\n",
            "Image: 2179.png, Mask Prediction: Mask, Gender Prediction: Male\n",
            "1/1 [==============================] - 1s 569ms/step\n",
            "Image: 2176.png, Mask Prediction: Mask, Gender Prediction: Female\n",
            "1/1 [==============================] - 1s 558ms/step\n",
            "Image: 2114.jpeg, Mask Prediction: Mask, Gender Prediction: Male\n",
            "1/1 [==============================] - 1s 581ms/step\n",
            "Image: 2160.png, Mask Prediction: Mask, Gender Prediction: Male\n",
            "1/1 [==============================] - 1s 611ms/step\n",
            "Image: 2158.png, Mask Prediction: Mask, Gender Prediction: Male\n",
            "1/1 [==============================] - 1s 623ms/step\n",
            "Image: 2205.png, Mask Prediction: Mask, Gender Prediction: Female\n",
            "1/1 [==============================] - 1s 918ms/step\n",
            "Image: 2130.jpg, Mask Prediction: Mask, Gender Prediction: Female\n",
            "1/1 [==============================] - 1s 999ms/step\n",
            "Image: 2283.png, Mask Prediction: Mask, Gender Prediction: Female\n",
            "1/1 [==============================] - 1s 966ms/step\n",
            "Image: 2264.png, Mask Prediction: Mask, Gender Prediction: Male\n",
            "1/1 [==============================] - 1s 995ms/step\n",
            "Image: 2271.png, Mask Prediction: Mask, Gender Prediction: Female\n",
            "1/1 [==============================] - 1s 768ms/step\n",
            "Image: 2267.png, Mask Prediction: Mask, Gender Prediction: Male\n",
            "1/1 [==============================] - 1s 560ms/step\n",
            "Image: 2245.png, Mask Prediction: Mask, Gender Prediction: Male\n",
            "1/1 [==============================] - 1s 552ms/step\n",
            "Image: 2263.png, Mask Prediction: Mask, Gender Prediction: Male\n",
            "1/1 [==============================] - 1s 571ms/step\n",
            "Image: 2252.png, Mask Prediction: Mask, Gender Prediction: Female\n",
            "1/1 [==============================] - 1s 547ms/step\n",
            "Image: 2254.png, Mask Prediction: Mask, Gender Prediction: Male\n",
            "1/1 [==============================] - 1s 573ms/step\n",
            "Image: 2302.jpg, Mask Prediction: Mask, Gender Prediction: Female\n",
            "1/1 [==============================] - 1s 569ms/step\n",
            "Image: 2297.jpeg, Mask Prediction: Mask, Gender Prediction: Female\n",
            "1/1 [==============================] - 1s 564ms/step\n",
            "Image: 2303.jpg, Mask Prediction: Mask, Gender Prediction: Female\n",
            "1/1 [==============================] - 1s 565ms/step\n",
            "Image: 2301.jpg, Mask Prediction: Mask, Gender Prediction: Female\n",
            "1/1 [==============================] - 1s 557ms/step\n",
            "Image: 2288.jpg, Mask Prediction: Mask, Gender Prediction: Female\n",
            "1/1 [==============================] - 1s 553ms/step\n",
            "Image: 2291.jpeg, Mask Prediction: Mask, Gender Prediction: Male\n",
            "1/1 [==============================] - 1s 588ms/step\n",
            "Image: 2299.jpg, Mask Prediction: Mask, Gender Prediction: Female\n",
            "1/1 [==============================] - 1s 570ms/step\n",
            "Image: 2292.jpeg, Mask Prediction: Mask, Gender Prediction: Female\n",
            "1/1 [==============================] - 1s 574ms/step\n",
            "Image: 2293.jpeg, Mask Prediction: Mask, Gender Prediction: Female\n",
            "1/1 [==============================] - 1s 585ms/step\n",
            "Image: 2298.jpg, Mask Prediction: Mask, Gender Prediction: Female\n",
            "1/1 [==============================] - 1s 828ms/step\n",
            "Image: 2286.jpg, Mask Prediction: Mask, Gender Prediction: Male\n",
            "1/1 [==============================] - 1s 954ms/step\n",
            "Image: 2285.jpg, Mask Prediction: Mask, Gender Prediction: Female\n",
            "1/1 [==============================] - 1s 972ms/step\n",
            "Image: 2290.jpg, Mask Prediction: Mask, Gender Prediction: Male\n",
            "1/1 [==============================] - 1s 883ms/step\n",
            "Image: 2294.jpeg, Mask Prediction: Mask, Gender Prediction: Male\n",
            "1/1 [==============================] - 1s 960ms/step\n",
            "Image: 2284.jpg, Mask Prediction: Mask, Gender Prediction: Male\n",
            "1/1 [==============================] - 1s 802ms/step\n",
            "Image: 2287.jpeg, Mask Prediction: Mask, Gender Prediction: Male\n",
            "1/1 [==============================] - 1s 560ms/step\n",
            "Image: 2305.jpeg, Mask Prediction: Mask, Gender Prediction: Male\n",
            "1/1 [==============================] - 1s 578ms/step\n",
            "Image: 2295.jpeg, Mask Prediction: Mask, Gender Prediction: Male\n",
            "1/1 [==============================] - 1s 558ms/step\n",
            "Image: 2300.jpg, Mask Prediction: Mask, Gender Prediction: Male\n",
            "1/1 [==============================] - 1s 573ms/step\n",
            "Image: 2304.jpg, Mask Prediction: Mask, Gender Prediction: Male\n",
            "1/1 [==============================] - 1s 553ms/step\n",
            "Image: 2296.jpeg, Mask Prediction: Mask, Gender Prediction: Female\n",
            "1/1 [==============================] - 1s 557ms/step\n",
            "Image: 2309.jpg, Mask Prediction: Mask, Gender Prediction: Female\n",
            "1/1 [==============================] - 1s 582ms/step\n",
            "Image: 2310.jpg, Mask Prediction: Mask, Gender Prediction: Female\n",
            "1/1 [==============================] - 1s 553ms/step\n",
            "Image: 2311.jpg, Mask Prediction: Mask, Gender Prediction: Female\n",
            "1/1 [==============================] - 1s 576ms/step\n",
            "Image: 2312.jpg, Mask Prediction: Mask, Gender Prediction: Female\n",
            "1/1 [==============================] - 1s 569ms/step\n",
            "Image: 2313.jpg, Mask Prediction: Mask, Gender Prediction: Male\n",
            "1/1 [==============================] - 1s 573ms/step\n",
            "Image: 2314.jpg, Mask Prediction: Mask, Gender Prediction: Male\n",
            "1/1 [==============================] - 1s 580ms/step\n",
            "Image: 2315.jpg, Mask Prediction: Mask, Gender Prediction: Male\n",
            "1/1 [==============================] - 1s 596ms/step\n",
            "Image: 2316.jpg, Mask Prediction: Mask, Gender Prediction: Male\n",
            "1/1 [==============================] - 1s 556ms/step\n",
            "Image: 2317.jpeg, Mask Prediction: Mask, Gender Prediction: Male\n",
            "1/1 [==============================] - 1s 593ms/step\n",
            "Image: 2318.jpg, Mask Prediction: Mask, Gender Prediction: Male\n",
            "1/1 [==============================] - 1s 976ms/step\n",
            "Image: 2319.jpg, Mask Prediction: Mask, Gender Prediction: Male\n",
            "1/1 [==============================] - 1s 993ms/step\n",
            "Image: 2320.jpg, Mask Prediction: Mask, Gender Prediction: Male\n",
            "1/1 [==============================] - 1s 934ms/step\n",
            "Image: 2321.jpg, Mask Prediction: Mask, Gender Prediction: Male\n",
            "1/1 [==============================] - 1s 1s/step\n",
            "Image: 2322.jpg, Mask Prediction: Mask, Gender Prediction: Male\n",
            "1/1 [==============================] - 1s 758ms/step\n",
            "Image: 2323.jpg, Mask Prediction: Mask, Gender Prediction: Male\n"
          ]
        }
      ]
    }
  ]
}